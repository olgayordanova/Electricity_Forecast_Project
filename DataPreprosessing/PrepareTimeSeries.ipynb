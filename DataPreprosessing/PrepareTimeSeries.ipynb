{
 "cells": [
  {
   "cell_type": "code",
   "execution_count": 1,
   "metadata": {},
   "outputs": [],
   "source": [
    "%matplotlib inline"
   ]
  },
  {
   "cell_type": "code",
   "execution_count": 2,
   "metadata": {},
   "outputs": [],
   "source": [
    "import numpy as np\n",
    "import pandas as pd\n",
    "import matplotlib.pyplot as plt"
   ]
  },
  {
   "cell_type": "markdown",
   "metadata": {},
   "source": [
    "# Prepare Time Series"
   ]
  },
  {
   "cell_type": "code",
   "execution_count": 3,
   "metadata": {},
   "outputs": [],
   "source": [
    "WINDOW_SIZE = 24*30\n",
    "TARGET_LEN = 24*5\n",
    "DELAY = 24*1\n",
    "# Петдневна прогноза от ден T+2 ден на база наблюденията от T-30 дни. Ден Т+1 се прескача - един ден свободно време за реакция. \n",
    "# Всеки ден е 24 наблюдения (почасово)\n",
    "# df_data_price_tse = prepare_windows(df_data_price, 10, 'price actual', 2,5) # - test function"
   ]
  },
  {
   "cell_type": "code",
   "execution_count": 4,
   "metadata": {},
   "outputs": [],
   "source": [
    "def prepare_windows(df, window_size, col_name, target_count, delay):\n",
    "    r=len(df)\n",
    "    ts_dataset = pd.DataFrame()\n",
    "    ts_dataset_t = pd.DataFrame()\n",
    "    for i in range(0, window_size):\n",
    "        ts_dataset[f\"Lag_{i+1}\"] = df[col_name].shift(i) \n",
    "    for j in range(window_size, window_size+target_count):\n",
    "        ts_dataset_t[f\"Target_{j-window_size+1}\"] = df[col_name].shift(window_size-j-delay) \n",
    "    ts_dataset_out =  pd.concat([df, ts_dataset, ts_dataset_t], axis=1)\n",
    "    return ts_dataset_out.loc[window_size-1:r-target_count-delay, :] "
   ]
  },
  {
   "cell_type": "markdown",
   "metadata": {},
   "source": [
    "## Price Dataset"
   ]
  },
  {
   "cell_type": "code",
   "execution_count": 16,
   "metadata": {},
   "outputs": [],
   "source": [
    "df_data_price =  pd.read_csv(r\"output_data_sets\\df_prices_mif_final.csv\", sep=',')"
   ]
  },
  {
   "cell_type": "code",
   "execution_count": 17,
   "metadata": {},
   "outputs": [
    {
     "name": "stderr",
     "output_type": "stream",
     "text": [
      "<ipython-input-15-c79e9902314a>:6: PerformanceWarning: DataFrame is highly fragmented.  This is usually the result of calling `frame.insert` many times, which has poor performance.  Consider joining all columns at once using pd.concat(axis=1) instead.  To get a de-fragmented frame, use `newframe = frame.copy()`\n",
      "  ts_dataset[f\"Lag_{i+1}\"] = df[col_name].shift(i)\n",
      "<ipython-input-15-c79e9902314a>:8: PerformanceWarning: DataFrame is highly fragmented.  This is usually the result of calling `frame.insert` many times, which has poor performance.  Consider joining all columns at once using pd.concat(axis=1) instead.  To get a de-fragmented frame, use `newframe = frame.copy()`\n",
      "  ts_dataset_t[f\"Target_{j-window_size+1}\"] = df[col_name].shift(window_size-j-delay)\n"
     ]
    }
   ],
   "source": [
    "COLUMN_NAME = 'price actual'\n",
    "df_data_price_ts = prepare_windows(df_data_price, WINDOW_SIZE, COLUMN_NAME, TARGET_LEN, DELAY) "
   ]
  },
  {
   "cell_type": "code",
   "execution_count": 22,
   "metadata": {},
   "outputs": [
    {
     "data": {
      "text/plain": [
       "(34202, 923)"
      ]
     },
     "execution_count": 22,
     "metadata": {},
     "output_type": "execute_result"
    }
   ],
   "source": [
    "df_data_price_ts.shape"
   ]
  },
  {
   "cell_type": "code",
   "execution_count": 23,
   "metadata": {},
   "outputs": [],
   "source": [
    "df_data_price_ts.to_csv(f'output_data_sets/df_data_price_ts{WINDOW_SIZE}_{TARGET_LEN}_{DELAY}.csv', index = False, header=True)"
   ]
  },
  {
   "cell_type": "markdown",
   "metadata": {},
   "source": [
    "## Load Dataset"
   ]
  },
  {
   "cell_type": "code",
   "execution_count": 26,
   "metadata": {},
   "outputs": [],
   "source": [
    "df_data_load =  pd.read_csv(r\"output_data_sets\\df_load_mif_final.csv\", sep=',')"
   ]
  },
  {
   "cell_type": "code",
   "execution_count": 27,
   "metadata": {},
   "outputs": [
    {
     "name": "stderr",
     "output_type": "stream",
     "text": [
      "<ipython-input-15-c79e9902314a>:6: PerformanceWarning: DataFrame is highly fragmented.  This is usually the result of calling `frame.insert` many times, which has poor performance.  Consider joining all columns at once using pd.concat(axis=1) instead.  To get a de-fragmented frame, use `newframe = frame.copy()`\n",
      "  ts_dataset[f\"Lag_{i+1}\"] = df[col_name].shift(i)\n",
      "<ipython-input-15-c79e9902314a>:8: PerformanceWarning: DataFrame is highly fragmented.  This is usually the result of calling `frame.insert` many times, which has poor performance.  Consider joining all columns at once using pd.concat(axis=1) instead.  To get a de-fragmented frame, use `newframe = frame.copy()`\n",
      "  ts_dataset_t[f\"Target_{j-window_size+1}\"] = df[col_name].shift(window_size-j-delay)\n"
     ]
    }
   ],
   "source": [
    "COLUMN_NAME = 'total load actual'\n",
    "df_data_load_ts = prepare_windows(df_data_load, WINDOW_SIZE, COLUMN_NAME, TARGET_LEN, DELAY) "
   ]
  },
  {
   "cell_type": "code",
   "execution_count": 30,
   "metadata": {},
   "outputs": [
    {
     "data": {
      "text/plain": [
       "(34202, 920)"
      ]
     },
     "execution_count": 30,
     "metadata": {},
     "output_type": "execute_result"
    }
   ],
   "source": [
    "df_data_load_ts.shape"
   ]
  },
  {
   "cell_type": "code",
   "execution_count": 28,
   "metadata": {},
   "outputs": [],
   "source": [
    "df_data_load_ts.to_csv(f'output_data_sets/df_data_load_ts{WINDOW_SIZE}_{TARGET_LEN}_{DELAY}.csv', index = False, header=True)"
   ]
  },
  {
   "cell_type": "markdown",
   "metadata": {},
   "source": [
    "### Тест на функцията ---> prepare_windows"
   ]
  },
  {
   "cell_type": "code",
   "execution_count": 10,
   "metadata": {},
   "outputs": [],
   "source": [
    "WINDOW_SIZE = 1*10\n",
    "TARGET_LEN = 1*3\n",
    "DELAY = 1*1"
   ]
  },
  {
   "cell_type": "code",
   "execution_count": 11,
   "metadata": {},
   "outputs": [],
   "source": [
    "df_data_load =  pd.read_csv(r\"output_data_sets\\df_load_mif_final.csv\", sep=',')"
   ]
  },
  {
   "cell_type": "code",
   "execution_count": 12,
   "metadata": {},
   "outputs": [],
   "source": [
    "COLUMN_NAME = 'total load actual'\n",
    "df_data_load_ts = prepare_windows(df_data_load, WINDOW_SIZE, COLUMN_NAME, TARGET_LEN, DELAY) "
   ]
  },
  {
   "cell_type": "code",
   "execution_count": 13,
   "metadata": {},
   "outputs": [],
   "source": [
    "df_data_load_ts.to_csv(f'output_data_sets/df_data_load_ts{WINDOW_SIZE}_{TARGET_LEN}_{DELAY}--test.csv', index = False, header=True)"
   ]
  },
  {
   "cell_type": "code",
   "execution_count": null,
   "metadata": {},
   "outputs": [],
   "source": []
  }
 ],
 "metadata": {
  "kernelspec": {
   "display_name": "Python 3",
   "language": "python",
   "name": "python3"
  },
  "language_info": {
   "codemirror_mode": {
    "name": "ipython",
    "version": 3
   },
   "file_extension": ".py",
   "mimetype": "text/x-python",
   "name": "python",
   "nbconvert_exporter": "python",
   "pygments_lexer": "ipython3",
   "version": "3.8.12"
  }
 },
 "nbformat": 4,
 "nbformat_minor": 4
}
